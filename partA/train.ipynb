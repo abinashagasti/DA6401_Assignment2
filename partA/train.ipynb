{
 "cells": [
  {
   "cell_type": "code",
   "execution_count": 1,
   "id": "e32ecf77",
   "metadata": {},
   "outputs": [],
   "source": [
    "# Import desired libraries\n",
    "import torch\n",
    "import torch.nn as nn\n",
    "import torch.optim as optim\n",
    "import wandb\n",
    "import argparse\n",
    "import multiprocessing"
   ]
  },
  {
   "cell_type": "code",
   "execution_count": 2,
   "id": "fdbe3107",
   "metadata": {},
   "outputs": [],
   "source": [
    "# Import custom modules\n",
    "from cnn_class import CNN\n",
    "from utils import *"
   ]
  },
  {
   "cell_type": "code",
   "execution_count": 4,
   "id": "9bf7f214",
   "metadata": {},
   "outputs": [],
   "source": [
    "def main(args):\n",
    "    # Wandb details\n",
    "    user = args.wandb_entity\n",
    "    project = args.wandb_project\n",
    "    display_name = \"test_run\"\n",
    "\n",
    "    if args.wandb_login:\n",
    "        wandb.init(entity=user, project=project, name=display_name)\n",
    "\n",
    "    # Define dataset paths\n",
    "    train_dir = args.data_directory+'/train'\n",
    "    test_dir = args.data_directory+'/val'\n",
    "\n",
    "    # Set hyperparameters\n",
    "    learning_rate = args.learning_rate\n",
    "    batch_size = args.batch_size\n",
    "    max_epochs = args.epochs\n",
    "    img_size = args.img_size\n",
    "    activation = get_activation(args.activation)\n",
    "\n",
    "    device = torch.device(\"cuda\" if torch.cuda.is_available() else \"mps\" if torch.backends.mps.is_available() else \"cpu\")\n",
    "    print(f\"Using device: {device}\")\n",
    "    num_workers = max(1, multiprocessing.cpu_count() - 2) if torch.cuda.is_available() else 4 if torch.backends.mps.is_available() else 1\n",
    "    use_augmentation = args.use_augmentation\n",
    "    # Obtain dataloaders\n",
    "    train_loader, val_loader, test_loader = dataset_split(\n",
    "        train_dir, test_dir, batch_size=batch_size, num_workers=num_workers,\n",
    "        augmentation=use_augmentation, img_size=img_size\n",
    "    )\n",
    "    # Define custom CNN\n",
    "    num_filters = args.num_filters\n",
    "    kernel_size = args.kernel_size\n",
    "    num_dense = args.num_dense\n",
    "    dropout_prob = 0.12\n",
    "    use_dropout = args.use_dropout\n",
    "    use_batchnorm = args.use_batchnorm\n",
    "    padding = args.padding\n",
    "    model = CNN(\n",
    "        num_filters=num_filters, num_dense=num_dense, kernel_size=kernel_size, padding=padding,\n",
    "        activation=activation, use_batchnorm=use_batchnorm, use_dropout=use_dropout,\n",
    "        dropout_prob=dropout_prob, img_size=img_size\n",
    "    )\n",
    "    model = model.to(device)\n",
    "    # Define loss, optimizer, scheduler\n",
    "    loss_fn = nn.CrossEntropyLoss()\n",
    "    optimizer = get_optimizer(args.optimizer, model, learning_rate=learning_rate, weight_decay=args.weight_decay)\n",
    "    scheduler = torch.optim.lr_scheduler.ReduceLROnPlateau(optimizer, mode='min', factor=0.5, patience=3)\n",
    "    # Training output\n",
    "    print(f\"Training with 'Custom CNN'\")\n",
    "    print(f\"Training Parameters:\")\n",
    "    print(f\"Learning Rate: {learning_rate}, num_filters: {num_filters}, kernel_size: {kernel_size}, num_dense: {num_dense}, batch_size: {batch_size}, dropout: {dropout_prob if use_dropout else None}, batchnorm: {use_batchnorm}, data_augmentation: {use_augmentation}\")\n",
    "    train_loop(train_loader, val_loader, model, loss_fn, optimizer, scheduler=scheduler, device=device, max_epochs=max_epochs, patience_stop=10, wandb_log=args.wandb_login)\n",
    "    if args.wandb_login:\n",
    "        wandb.finish()"
   ]
  },
  {
   "cell_type": "code",
   "execution_count": 5,
   "id": "75075d88",
   "metadata": {},
   "outputs": [
    {
     "name": "stdout",
     "output_type": "stream",
     "text": [
      "Using device: mps\n",
      "Training with 'Custom CNN'\n",
      "Training Parameters:\n",
      "Learning Rate: 0.0006, num_filters: [32, 64, 128, 256, 512], kernel_size: [3, 3, 3, 3, 3], num_dense: [512], batch_size: 64, dropout: 0.12, batchnorm: True, data_augmentation: True\n"
     ]
    },
    {
     "name": "stderr",
     "output_type": "stream",
     "text": [
      "Training Progress:   0%|          | 0/20 [00:00<?, ?epoch/s]"
     ]
    },
    {
     "name": "stdout",
     "output_type": "stream",
     "text": [
      "Epoch [1/20] → Train Loss: 4.0813, Train Acc: 15.74% | Val Loss: 2.1955, Val Acc: 17.96%\n",
      "\n",
      "Current Learning Rate: 0.000600\n"
     ]
    },
    {
     "name": "stderr",
     "output_type": "stream",
     "text": [
      "Training Progress:   5%|▌         | 1/20 [01:39<31:23, 99.12s/epoch]"
     ]
    }
   ],
   "source": [
    "from argparse import Namespace\n",
    "\n",
    "args = Namespace(\n",
    "    wandb_project=\"DA6401_Assignment_2\",\n",
    "    wandb_entity=\"ee20d201-indian-institute-of-technology-madras\",\n",
    "    data_directory=\"../../inaturalist_12K\",\n",
    "    epochs=20,\n",
    "    batch_size=64,\n",
    "    img_size=224,\n",
    "    num_filters=[32, 64, 128, 256, 512],\n",
    "    kernel_size=[3, 3, 3, 3, 3],\n",
    "    use_augmentation=True,\n",
    "    num_dense=[512],\n",
    "    use_dropout=True,\n",
    "    use_batchnorm=True,\n",
    "    dropout_prob=0.12,\n",
    "    padding=1,\n",
    "    optimizer=\"adam\",\n",
    "    learning_rate=0.0006,\n",
    "    weight_decay=0.0007,\n",
    "    activation=\"ReLU\",\n",
    "    wandb_login=False,\n",
    ")\n",
    "\n",
    "main(args)"
   ]
  }
 ],
 "metadata": {
  "kernelspec": {
   "display_name": "da6401",
   "language": "python",
   "name": "python3"
  },
  "language_info": {
   "codemirror_mode": {
    "name": "ipython",
    "version": 3
   },
   "file_extension": ".py",
   "mimetype": "text/x-python",
   "name": "python",
   "nbconvert_exporter": "python",
   "pygments_lexer": "ipython3",
   "version": "3.12.9"
  }
 },
 "nbformat": 4,
 "nbformat_minor": 5
}
