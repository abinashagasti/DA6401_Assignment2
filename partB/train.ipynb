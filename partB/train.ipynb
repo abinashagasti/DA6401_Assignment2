{
 "cells": [
  {
   "cell_type": "code",
   "execution_count": 1,
   "id": "e32ecf77",
   "metadata": {},
   "outputs": [],
   "source": [
    "# Import required libraries\n",
    "import torch\n",
    "import torch.nn as nn\n",
    "import torch.optim as optim\n",
    "import wandb\n",
    "import argparse\n",
    "import multiprocessing"
   ]
  },
  {
   "cell_type": "code",
   "execution_count": 2,
   "id": "fdbe3107",
   "metadata": {},
   "outputs": [],
   "source": [
    "# Import custom modules\n",
    "from pretrained_models import pretrained_model\n",
    "from utils import *"
   ]
  },
  {
   "cell_type": "code",
   "execution_count": 3,
   "id": "9bf7f214",
   "metadata": {},
   "outputs": [],
   "source": [
    "def main(args):\n",
    "    # Wandb details\n",
    "    user = args.wandb_entity\n",
    "    project = args.wandb_project\n",
    "    display_name = \"test_run\"\n",
    "\n",
    "    if args.wandb_login:\n",
    "        wandb.init(entity=user, project=project, name=display_name) # Initialize wandb experiment. \n",
    "        # config = wandb.config\n",
    "    \n",
    "    # Define dataset paths\n",
    "    train_dir = args.data_directory+'/train'\n",
    "    test_dir = args.data_directory+'/val'\n",
    "\n",
    "    # Set hyperparameters\n",
    "    learning_rate = args.learning_rate \n",
    "    batch_size = args.batch_size\n",
    "    max_epochs = args.epochs\n",
    "\n",
    "    # Device selection order CUDA > MPS > CPU\n",
    "    device = torch.device(\"cuda\" if torch.cuda.is_available() else \"mps\" if torch.backends.mps.is_available() else \"cpu\")\n",
    "    print(f\"Using device: {device}\")\n",
    "    num_workers = max(1, multiprocessing.cpu_count() - 2) if torch.cuda.is_available() else 4 if torch.backends.mps.is_available() else 1\n",
    "\n",
    "    use_augmentation = args.use_augmentation\n",
    "\n",
    "    # Get dataloaders for train, val and test\n",
    "    train_loader, val_loader, test_loader = dataset_split(train_dir, test_dir, batch_size=batch_size, num_workers=num_workers, augmentation=use_augmentation)\n",
    "\n",
    "    # Load a pretrained\n",
    "    model_type = args.model_type # Options = [\"ResNet18\", \"ResNet50\", \"GoogLeNet\", \"VGG\", \"InceptionV3\", \"EfficientNetV2\", \"VisionTransformer\"]\n",
    "    model = pretrained_model(model_type, k=args.trainable_layers)\n",
    "\n",
    "    model = model.to(device)\n",
    "\n",
    "    loss_fn = nn.CrossEntropyLoss() # loss function\n",
    "    optimizer = get_optimizer(args.optimizer, model, learning_rate=learning_rate, weight_decay=args.weight_decay) # optimizer\n",
    "    scheduler = torch.optim.lr_scheduler.ReduceLROnPlateau(optimizer, mode='min', factor=0.5, patience=3) # learning rate scheduler\n",
    "\n",
    "    # Print Training information\n",
    "    print(f\"Training with {model_type}\")\n",
    "    train_loop(train_loader, val_loader, model, loss_fn, optimizer, scheduler=scheduler, device=device, max_epochs=max_epochs, patience_stop=10, wandb_log=args.wandb_login)\n",
    "    # class_names = [\"Amphibia\", \"Animalia\", \"Arachnida\", \"Aves\", \"Fungi\", \"Insecta\", \"Mammalia\", \"Mollusca\", \"Plantae\", \"Reptilia\"]\n",
    "    # test_loop(test_loader, model, loss_fn, device, class_names)\n",
    "\n",
    "    if args.wandb_login:\n",
    "        wandb.finish() # End wandb experiment"
   ]
  },
  {
   "cell_type": "code",
   "execution_count": 4,
   "id": "75075d88",
   "metadata": {},
   "outputs": [
    {
     "name": "stdout",
     "output_type": "stream",
     "text": [
      "Using device: mps\n",
      "Training with EfficientNetV2\n"
     ]
    },
    {
     "name": "stderr",
     "output_type": "stream",
     "text": [
      "Training Progress:   0%|          | 0/20 [00:00<?, ?epoch/s]"
     ]
    },
    {
     "name": "stdout",
     "output_type": "stream",
     "text": [
      "Epoch [1/20] → Train Loss: 2.0416, Train Acc: 37.80% | Val Loss: 1.6645, Val Acc: 66.33%\n",
      "\n",
      "Current Learning Rate: 0.000281\n"
     ]
    },
    {
     "name": "stderr",
     "output_type": "stream",
     "text": [
      "Training Progress:   5%|▌         | 1/20 [03:57<1:15:05, 237.15s/epoch]"
     ]
    },
    {
     "name": "stdout",
     "output_type": "stream",
     "text": [
      "Epoch [2/20] → Train Loss: 1.2385, Train Acc: 68.65% | Val Loss: 0.8749, Val Acc: 77.39%\n",
      "\n",
      "Current Learning Rate: 0.000281\n"
     ]
    },
    {
     "name": "stderr",
     "output_type": "stream",
     "text": [
      "Training Progress:  10%|█         | 2/20 [07:56<1:11:31, 238.39s/epoch]"
     ]
    },
    {
     "name": "stdout",
     "output_type": "stream",
     "text": [
      "Epoch [3/20] → Train Loss: 0.8274, Train Acc: 75.55% | Val Loss: 0.6572, Val Acc: 80.84%\n",
      "\n",
      "Current Learning Rate: 0.000281\n"
     ]
    },
    {
     "name": "stderr",
     "output_type": "stream",
     "text": [
      "Training Progress:  15%|█▌        | 3/20 [11:54<1:07:32, 238.38s/epoch]"
     ]
    }
   ],
   "source": [
    "from argparse import Namespace\n",
    "\n",
    "from argparse import Namespace\n",
    "\n",
    "args = Namespace(\n",
    "    wandb_project=\"DA6401_Assignment_2\",\n",
    "    wandb_entity=\"ee20d201-indian-institute-of-technology-madras\",\n",
    "    data_directory=\"../../inaturalist_12K\",  # Update this path as needed\n",
    "    epochs=20,\n",
    "    batch_size=32,\n",
    "    model_type=\"EfficientNetV2\",  # Options: ResNet18, ResNet50, GoogLeNet, VGG, InceptionV3, EfficientNetV2, VisionTransformer\n",
    "    trainable_layers=1,\n",
    "    use_augmentation=True,\n",
    "    padding=1,\n",
    "    optimizer=\"sgd\",  # Options: sgd, adam\n",
    "    learning_rate=0.000281,\n",
    "    weight_decay=0.000827,\n",
    "    wandb_login=False\n",
    ")\n",
    "\n",
    "main(args)"
   ]
  }
 ],
 "metadata": {
  "kernelspec": {
   "display_name": "da6401",
   "language": "python",
   "name": "python3"
  },
  "language_info": {
   "codemirror_mode": {
    "name": "ipython",
    "version": 3
   },
   "file_extension": ".py",
   "mimetype": "text/x-python",
   "name": "python",
   "nbconvert_exporter": "python",
   "pygments_lexer": "ipython3",
   "version": "3.12.9"
  }
 },
 "nbformat": 4,
 "nbformat_minor": 5
}
